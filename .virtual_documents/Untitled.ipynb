data = {
    'id':['1','2','3','4','5'],
    'student':['A','B','C','D','E'],
    'subject1':[90,85,87,60,80],
    'subject2':[98,90,75,55,88],
    'subject3':[80,70,90,70,80],
}

 

## (i) add total score as new column ,
# (ii) add percentage column by lambda function,
# (iii) find highest scoring student




dataframe











(dataframe.iloc[:1,2:]).values


import numpy as np
np.sum(dataframe.iloc[:,2:],axis=1)


np.sum(dataframe,axis=1)


data = {
    'id':['1','2','3','4','5','6',None],
    'amt':['1245000','1245000','500000','955000','955000','1500000',None],
    'TRNDT':["09-Aug","09-Aug","09-Aug","10-Aug","10-Aug","10-Aug",None]
}
dataframe=pd.DataFrame(data)


dataframe


dataframe.groupby(["TRNDT"]).max('amt')


#find null values
#remove the columns in null value> 70%


dataframedata = {
    'id':['1','2','3','4','5','6',None],
    'amt':['1245000','1245000','500000','955000','955000','1500000',None],
    'TRNDT':["09-Aug","09-Aug","09-Aug","10-Aug","10-Aug","10-Aug",None],
    "nullbased":[None for i in range(7)]
}
dataframe=pd.DataFrame(dataframedata)


dataframe


# dataframe["amt"].plot()
empl:
    id:
    name:
    deptId:
    salary:



select *
from empl
where id not in (select id, from empl group by deptId,id order by salary desc)


select max(salary)
from empl
where id not in (select max(salary) from empl group )



select * 
from empl as e1
where 2=(select count(*) from empl as e2 where e1.salary<>e2.salary)

r score


with cte as (
select id,name,deptId,salary, dense_rank() over(partition by deptId order by salary desc) as salary_rank
from empl
)
select * from cte
where salary_rank=2



shape=dataframe.shape[0]
percent_shape=0.7*shape
dropping_col=[]
for col in list(dataframe.columns):
    new_df=dataframe[col][dataframe[col].isna()==True]
    print(new_df)
    if new_df.shape[0]>percent_shape:
        print(col)
        dropping_col.append(col)

dataframe.drop(dropping_col,inplace=True,axis=1)



    


dropping_col












