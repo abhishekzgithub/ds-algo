{
 "cells": [
  {
   "cell_type": "code",
   "execution_count": null,
   "id": "09f92434",
   "metadata": {},
   "outputs": [],
   "source": [
    "import pyspark\n",
    "from pyspark.sql import SparkSession\n",
    "import findspark\n",
    "findspark.init()\n",
    "findspark.find()\n",
    "spark=SparkSession.builder.appName(\"jupyter\").getOrCreate()\n",
    "\n"
   ]
  },
  {
   "cell_type": "code",
   "execution_count": null,
   "id": "fe608405-f0c8-4568-a563-b175465e8b46",
   "metadata": {},
   "outputs": [],
   "source": [
    "def publicis_test(text_path):\n",
    "    file_read=spark.read.text(text_path)\n",
    "    index_rdd=file_read.rdd.map(lambda x: x.value.split()) #to split the elements\n",
    "    index_rdd=index_rdd.filter(lambda x:x) #to remove the null\n",
    "    index_rdd=index_rdd.toDF([\"date\",\"time\",\"category\"])\n",
    "    return index_rdd\n",
    "text_path=r\"C:\\Users\\abhi3\\Documents\\work\\ds-algo\\interview_test\\publicis_sapient.txt\"\n",
    "df_rdd=publicis_test(text_path)\n",
    "df_rdd.collect()"
   ]
  },
  {
   "cell_type": "code",
   "execution_count": null,
   "id": "3c99ae66",
   "metadata": {},
   "outputs": [],
   "source": [
    "from pyspark.sql import functions as F\n",
    "filepath=r\"C:\\Users\\abhishek\\Documents\\coding\\ds-algo\\interview_test\\publicis_sapient.txt\"\n",
    "data = spark.read.text(filepath).cache()\n",
    "\n",
    "def someFunction(row):\n",
    "    wordlist = row[0].split(\" \")\n",
    "    result = list()\n",
    "    for word in wordlist:\n",
    "        result.append(word.upper())\n",
    "    return result\n",
    "\n",
    "#rdd_df=data.rdd.map(someFunction).collect()\n",
    "rdd_df=data.rdd.map(lambda r: r[0].split(\" \")).zipWithIndex().toDF(['value', 'index'])\n",
    "rdd_df.show(truncate=False)"
   ]
  },
  {
   "cell_type": "code",
   "execution_count": null,
   "id": "76bdfd11",
   "metadata": {},
   "outputs": [],
   "source": [
    "rdd_df.select(F.regexp_replace('[',F.col(\"value\"),\"\")).show()"
   ]
  },
  {
   "cell_type": "code",
   "execution_count": null,
   "id": "6c0aa17d",
   "metadata": {},
   "outputs": [],
   "source": [
    "rdd_df.select(F.split(F.col(\"value\"),\", \")).show()"
   ]
  },
  {
   "cell_type": "code",
   "execution_count": null,
   "id": "1adc5adf",
   "metadata": {},
   "outputs": [],
   "source": [
    "spark.createDataFrame(rdd_df[2:]).show()"
   ]
  },
  {
   "cell_type": "code",
   "execution_count": null,
   "id": "ef06298f",
   "metadata": {},
   "outputs": [],
   "source": [
    "states = {\"NY\":\"New York\", \"CA\":\"California\", \"FL\":\"Florida\"}\n",
    "broadcastStates = spark.sparkContext.broadcast(states)\n",
    "\n",
    "data = [(\"James\",\"Smith\",\"USA\",\"CA\"),\n",
    "    (\"Michael\",\"Rose\",\"USA\",\"NY\"),\n",
    "    (\"Robert\",\"Williams\",\"USA\",\"CA\"),\n",
    "    (\"Maria\",\"Jones\",\"USA\",\"FL\")\n",
    "  ]\n",
    "\n",
    "rdd_df = spark.sparkContext.parallelize(data)\n",
    "\n",
    "def state_convert(code):\n",
    "    return broadcastStates.value[code]\n",
    "\n",
    "result = rdd_df.map(lambda x: (x[0],x[1],x[2],state_convert(x[3]))).collect()\n",
    "print(result)"
   ]
  },
  {
   "cell_type": "code",
   "execution_count": null,
   "id": "5c68ab97",
   "metadata": {},
   "outputs": [],
   "source": [
    "boolean_value={1:\"True\",0:\"False\"}\n",
    "broadcastValue=spark.sparkContext.broadcast(boolean_value)\n",
    "\n",
    "data=[()]\n",
    "\n",
    "\n",
    "rdd_df=spark.sparkContext.paralleize(data)"
   ]
  },
  {
   "cell_type": "code",
   "execution_count": null,
   "id": "84934b6a",
   "metadata": {
    "scrolled": true
   },
   "outputs": [],
   "source": [
    "dir(broadcastStates)"
   ]
  },
  {
   "cell_type": "code",
   "execution_count": null,
   "id": "75fa2c93",
   "metadata": {},
   "outputs": [],
   "source": [
    "accuvariable=spark.sparkContext.accumulator(2)\n",
    "rdd_df=spark.sparkContext.parallelize(range(3,5))\n",
    "rdd_df_1=rdd_df.foreach(lambda x:accuvariable.add(x))\n",
    "print(accuvariable.value)"
   ]
  },
  {
   "cell_type": "code",
   "execution_count": null,
   "id": "dec51c78",
   "metadata": {},
   "outputs": [],
   "source": []
  },
  {
   "cell_type": "code",
   "execution_count": null,
   "id": "4566969b",
   "metadata": {},
   "outputs": [],
   "source": []
  }
 ],
 "metadata": {
  "kernelspec": {
   "display_name": "Python 3 (ipykernel)",
   "language": "python",
   "name": "python3"
  },
  "language_info": {
   "codemirror_mode": {
    "name": "ipython",
    "version": 3
   },
   "file_extension": ".py",
   "mimetype": "text/x-python",
   "name": "python",
   "nbconvert_exporter": "python",
   "pygments_lexer": "ipython3",
   "version": "3.11.10"
  }
 },
 "nbformat": 4,
 "nbformat_minor": 5
}
