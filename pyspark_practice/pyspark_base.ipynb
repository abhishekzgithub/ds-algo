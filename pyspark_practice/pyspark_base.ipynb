{
 "cells": [
  {
   "cell_type": "code",
   "execution_count": 1,
   "id": "ee261d0f-923c-4006-b206-5caf2e311cc1",
   "metadata": {},
   "outputs": [],
   "source": [
    "import pyspark\n",
    "import os\n",
    "#os.environ['PYSPARK_PYTHON'] = r'C:\\Users\\abhi3\\Documents\\work\\ds-algo\\pyspark_practice\\spark-3.5.3-bin-hadoop3\\spark-3.5.3-bin-hadoop3\\python'\n",
    "os.environ[\"SPARK_HOME\"]=r\"C:\\Users\\abhi3\\Documents\\work\\ds-algo\\pyspark_practice\\spark-3.5.3-bin-hadoop3\\spark-3.5.3-bin-hadoop3\"\n",
    "#os.environ[\"PYTHONPATH\"]=r'$(ZIPS=(\"$SPARK_HOME\"/python/lib/.zip); IFS=:; echo \"${ZIPS[]}\"):$PYTHONPATH'\n",
    "os.environ[\"JAVA_HOME\"]=r'C:\\Program Files\\Java\\jre1.8.0_431'\n",
    "os.environ[\"HADOOP_HOME\"]=r\"C:\\Users\\abhi3\\Documents\\work\\ds-algo\\pyspark_practice\\spark-3.5.3-bin-hadoop3\\spark-3.5.3-bin-hadoop3\\hadoop\"\n",
    "os.environ[\"PYSPARK_DRIVER_PYTHON\"]=\"jupyter\"\n",
    "postgresjdbc_path=r\"C:\\Users\\abhi3\\Documents\\work\\ds-algo\\sql_practice\\postgresql-42.7.2.jar\""
   ]
  },
  {
   "cell_type": "code",
   "execution_count": 2,
   "id": "dea0db4a-7400-42eb-8efd-1260452a950e",
   "metadata": {},
   "outputs": [],
   "source": [
    "from pyspark.sql import SparkSession\n",
    "from datetime import datetime, date\n",
    "#import pandas as pd\n",
    "from pyspark.sql import Row\n",
    "spark = (SparkSession\n",
    "         .builder\n",
    "         .appName(\"MyApp\")\n",
    "         #.config(\"spark.jars\", f\"{postgresjdbc_path}\")\n",
    "         .config(\"spark.driver.extraClassPath\", postgresjdbc_path)\n",
    "         .getOrCreate())"
   ]
  },
  {
   "cell_type": "code",
   "execution_count": 28,
   "id": "5fdd2bec-be95-401a-8387-9ded41424a4d",
   "metadata": {},
   "outputs": [
    {
     "name": "stdout",
     "output_type": "stream",
     "text": [
      "+---+---+-------+----------+-------------------+\n",
      "|  a|  b|      c|         d|                  e|\n",
      "+---+---+-------+----------+-------------------+\n",
      "|  1|2.0|string1|2000-01-01|2000-01-01 12:00:00|\n",
      "|  2|3.0|string2|2000-02-01|2000-01-02 12:00:00|\n",
      "|  4|5.0|string3|2000-03-01|2000-01-03 12:00:00|\n",
      "+---+---+-------+----------+-------------------+\n",
      "\n"
     ]
    }
   ],
   "source": [
    "df = spark.createDataFrame([\n",
    "    Row(a=1, b=2., c='string1', d=date(2000, 1, 1), e=datetime(2000, 1, 1, 12, 0)),\n",
    "    Row(a=2, b=3., c='string2', d=date(2000, 2, 1), e=datetime(2000, 1, 2, 12, 0)),\n",
    "    Row(a=4, b=5., c='string3', d=date(2000, 3, 1), e=datetime(2000, 1, 3, 12, 0))\n",
    "])\n",
    "df.show()"
   ]
  },
  {
   "cell_type": "code",
   "execution_count": 4,
   "id": "a38fa828-013d-472c-a313-2e7af6bdff8a",
   "metadata": {},
   "outputs": [
    {
     "data": {
      "text/plain": [
       "[Row(date='2023-01-01', time='1:05:00', category='u1'),\n",
       " Row(date='2023-01-01', time='1:25:00', category='u1'),\n",
       " Row(date='2023-01-02', time='2:05:00', category='u1'),\n",
       " Row(date='2023-01-02', time='2:35:00', category='u1'),\n",
       " Row(date='2023-01-02', time='3:05:00', category='u1'),\n",
       " Row(date='2023-01-12', time='1:05:00', category='u2'),\n",
       " Row(date='2023-01-12', time='1:05:00', category='u2'),\n",
       " Row(date='2023-01-12', time='1:05:00', category='u2'),\n",
       " Row(date='2023-01-01', time='1:05:00', category='u1'),\n",
       " Row(date='2023-01-12', time='1:35:00', category='u2')]"
      ]
     },
     "execution_count": 4,
     "metadata": {},
     "output_type": "execute_result"
    }
   ],
   "source": [
    "def publicis_test(text_path,columns):\n",
    "    file_read=spark.read.text(text_path)\n",
    "    index_rdd=file_read.rdd.map(lambda x: x.value.split()) #to split the elements\n",
    "    index_rdd=index_rdd.filter(lambda x:x) #to remove the null\n",
    "    index_rdd=index_rdd.toDF(columns)\n",
    "    return index_rdd\n",
    "text_path=r\"C:\\Users\\abhi3\\Documents\\work\\ds-algo\\interview_test\\publicis_sapient.txt\"\n",
    "df_rdd=publicis_test(text_path,[\"date\",\"time\",\"category\"])\n",
    "df_rdd.collect()"
   ]
  },
  {
   "cell_type": "code",
   "execution_count": 75,
   "id": "e694b7be-253f-4dd7-8bdf-2a73086887db",
   "metadata": {},
   "outputs": [
    {
     "data": {
      "text/plain": [
       "[Row(date='2023-01-01', time='1:05:00', category='u1'),\n",
       " Row(date='2023-01-01', time='1:25:00', category='u1'),\n",
       " Row(date='2023-01-02', time='2:05:00', category='u1'),\n",
       " Row(date='2023-01-02', time='2:35:00', category='u1'),\n",
       " Row(date='2023-01-02', time='3:05:00', category='u1'),\n",
       " Row(date='2023-01-01', time='1:05:00', category='u1')]"
      ]
     },
     "execution_count": 75,
     "metadata": {},
     "output_type": "execute_result"
    }
   ],
   "source": [
    "df_rdd.filter(df_rdd[\"category\"]==\"u1\").collect()"
   ]
  },
  {
   "cell_type": "code",
   "execution_count": 79,
   "id": "b88c7853-ecfe-4329-85fe-5ade57c27a77",
   "metadata": {},
   "outputs": [
    {
     "data": {
      "text/plain": [
       "[Row(date='2023-01-02', time='2:05:00', category='u1'),\n",
       " Row(date='2023-01-02', time='2:35:00', category='u1'),\n",
       " Row(date='2023-01-02', time='3:05:00', category='u1')]"
      ]
     },
     "execution_count": 79,
     "metadata": {},
     "output_type": "execute_result"
    }
   ],
   "source": [
    "df_rdd.filter(df_rdd[\"time\"]>\"2:00:00\").collect()"
   ]
  },
  {
   "cell_type": "code",
   "execution_count": 7,
   "id": "7f43e27d-edaa-4cc1-9786-53fc3a0f0ebd",
   "metadata": {},
   "outputs": [
    {
     "name": "stdout",
     "output_type": "stream",
     "text": [
      "+------------------+\n",
      "|         date_time|\n",
      "+------------------+\n",
      "|2023-01-01 1:05:00|\n",
      "|2023-01-01 1:25:00|\n",
      "|2023-01-02 2:05:00|\n",
      "|2023-01-02 2:35:00|\n",
      "|2023-01-02 3:05:00|\n",
      "|2023-01-12 1:05:00|\n",
      "|2023-01-12 1:05:00|\n",
      "|2023-01-12 1:05:00|\n",
      "|2023-01-01 1:05:00|\n",
      "|2023-01-12 1:35:00|\n",
      "+------------------+\n",
      "\n"
     ]
    }
   ],
   "source": [
    "from pyspark.sql.functions import to_timestamp, col,concat_ws\n",
    "#df_rdd_1=df_rdd.select(concat(col[\"date\"],\" \",col[\"time\"]).alias(\"date_time\"))#withColumn(\"date_time\",concatenate(col[\"date\"],\" \",col[\"time\"]))#to_timestamp(\"time\",\"hh:mm:ss\"))\n",
    "df_rdd_1=df_rdd.select(concat_ws(\" \",df_rdd.date,df_rdd.time).alias(\"date_time\"))#withColumn(\"date_time\",concatenate(col[\"date\"],\" \",col[\"time\"]))#to_timestamp(\"time\",\"hh:mm:ss\"))\n",
    "\n",
    "df_rdd_1.show()"
   ]
  },
  {
   "cell_type": "code",
   "execution_count": null,
   "id": "22b19dc3-f5d6-4ba1-9b74-5a8624a222cc",
   "metadata": {},
   "outputs": [],
   "source": []
  },
  {
   "cell_type": "code",
   "execution_count": null,
   "id": "d42d1551-d801-43b5-8fa2-2fc262113bce",
   "metadata": {},
   "outputs": [
    {
     "data": {
      "text/plain": [
       "[Row(date='2023-01-01', time='1:05:00', category='u1', date_time='2023-01-01 1:05:00'),\n",
       " Row(date='2023-01-01', time='1:25:00', category='u1', date_time='2023-01-01 1:25:00'),\n",
       " Row(date='2023-01-02', time='2:05:00', category='u1', date_time='2023-01-02 2:05:00'),\n",
       " Row(date='2023-01-02', time='2:35:00', category='u1', date_time='2023-01-02 2:35:00'),\n",
       " Row(date='2023-01-02', time='3:05:00', category='u1', date_time='2023-01-02 3:05:00'),\n",
       " Row(date='2023-01-12', time='1:05:00', category='u2', date_time='2023-01-12 1:05:00'),\n",
       " Row(date='2023-01-12', time='1:05:00', category='u2', date_time='2023-01-12 1:05:00'),\n",
       " Row(date='2023-01-12', time='1:05:00', category='u2', date_time='2023-01-12 1:05:00'),\n",
       " Row(date='2023-01-01', time='1:05:00', category='u1', date_time='2023-01-01 1:05:00'),\n",
       " Row(date='2023-01-12', time='1:35:00', category='u2', date_time='2023-01-12 1:35:00')]"
      ]
     },
     "execution_count": 17,
     "metadata": {},
     "output_type": "execute_result"
    }
   ],
   "source": [
    "df_rdd_1=df_rdd.withColumns({\"date_time\":concat_ws(\" \",df_rdd.date,df_rdd.time)})\n",
    "df_rdd_1.collect()"
   ]
  },
  {
   "cell_type": "code",
   "execution_count": 3,
   "id": "618de844-c7a5-434b-8890-ec378de2d22d",
   "metadata": {},
   "outputs": [],
   "source": [
    "#df_rdd_1.withColumns({\"date_time_1\":to_timestamp(col(\"date_time\"),\"yyyy-MM-dd HH:mm:ss\")}).collect()"
   ]
  },
  {
   "cell_type": "code",
   "execution_count": 6,
   "id": "47729cd0-e503-4201-902f-8f1cbef3e3e7",
   "metadata": {},
   "outputs": [
    {
     "name": "stdout",
     "output_type": "stream",
     "text": [
      "+----------+---------+-----------+\n",
      "|product_id|new_price|change_date|\n",
      "+----------+---------+-----------+\n",
      "|product_id|new_price|change_date|\n",
      "|         1|       20| 2019-08-14|\n",
      "|         2|       50| 2019-08-14|\n",
      "|         1|       30| 2019-08-15|\n",
      "|         1|       35| 2019-08-16|\n",
      "|         2|       65| 2019-08-17|\n",
      "|         3|       20| 2019-08-18|\n",
      "+----------+---------+-----------+\n",
      "\n"
     ]
    }
   ],
   "source": [
    "text_path=r\"C:\\Users\\abhi3\\Documents\\work\\ds-algo\\pyspark_practice\\test.txt\"\n",
    "df=publicis_test(text_path,['product_id', 'new_price', 'change_date'])\n",
    "df.show()"
   ]
  },
  {
   "cell_type": "code",
   "execution_count": 5,
   "id": "f98c766d-0620-4004-b7f7-98c63aa07d5c",
   "metadata": {},
   "outputs": [
    {
     "data": {
      "text/plain": [
       "DataFrame[value: string]"
      ]
     },
     "execution_count": 5,
     "metadata": {},
     "output_type": "execute_result"
    }
   ],
   "source": [
    "text_path=r\"C:\\Users\\abhi3\\Documents\\work\\ds-algo\\pyspark_practice\\test.txt\"\n",
    "file_read=spark.read.text(text_path)\n",
    "file_read"
   ]
  },
  {
   "cell_type": "code",
   "execution_count": 6,
   "id": "21f017f2-4828-46ae-a67b-69fc591324d5",
   "metadata": {},
   "outputs": [
    {
     "data": {
      "text/plain": [
       "[Row(value=' product_id  new_price  change_date '),\n",
       " Row(value=' 1           20         2019-08-14  '),\n",
       " Row(value=' 2           50         2019-08-14  '),\n",
       " Row(value=' 1           30         2019-08-15  '),\n",
       " Row(value=' 1           35         2019-08-16  '),\n",
       " Row(value=' 2           65         2019-08-17  '),\n",
       " Row(value=' 3           20         2019-08-18  ')]"
      ]
     },
     "execution_count": 6,
     "metadata": {},
     "output_type": "execute_result"
    }
   ],
   "source": [
    "file_read.collect()"
   ]
  },
  {
   "cell_type": "code",
   "execution_count": 9,
   "id": "55d4fbeb-9ffa-47bf-b7d7-3bf0e4c7835c",
   "metadata": {},
   "outputs": [
    {
     "data": {
      "text/plain": [
       "[['product_id', 'new_price', 'change_date'],\n",
       " ['1', '20', '2019-08-14'],\n",
       " ['2', '50', '2019-08-14'],\n",
       " ['1', '30', '2019-08-15'],\n",
       " ['1', '35', '2019-08-16'],\n",
       " ['2', '65', '2019-08-17'],\n",
       " ['3', '20', '2019-08-18']]"
      ]
     },
     "execution_count": 9,
     "metadata": {},
     "output_type": "execute_result"
    }
   ],
   "source": [
    "def func_split(x):\n",
    "    #print(x)\n",
    "    return x.value.split()\n",
    "\n",
    "index_rdd=file_read.rdd.map(lambda x: x.value.split())#.zipWithIndex()\n",
    "(index_rdd.collect())\n",
    "#.toDF([\"date\",\"date_time\",\"category\"]).collect()"
   ]
  },
  {
   "cell_type": "code",
   "execution_count": 8,
   "id": "fae9629f-7f9d-4d30-bd20-2b9778bbb96f",
   "metadata": {},
   "outputs": [
    {
     "data": {
      "text/plain": [
       "[['product_id', 'new_price', 'change_date'],\n",
       " ['1', '20', '2019-08-14'],\n",
       " ['2', '50', '2019-08-14'],\n",
       " ['1', '30', '2019-08-15'],\n",
       " ['1', '35', '2019-08-16'],\n",
       " ['2', '65', '2019-08-17'],\n",
       " ['3', '20', '2019-08-18']]"
      ]
     },
     "execution_count": 8,
     "metadata": {},
     "output_type": "execute_result"
    }
   ],
   "source": [
    "index_rdd_1=index_rdd.filter(lambda x: x)\n",
    "index_rdd_1.collect()"
   ]
  },
  {
   "cell_type": "code",
   "execution_count": 11,
   "id": "13caecdc-52e4-41d5-8b56-7544ed550655",
   "metadata": {},
   "outputs": [
    {
     "data": {
      "text/plain": [
       "['product_id', 'new_price', 'change_date']"
      ]
     },
     "execution_count": 11,
     "metadata": {},
     "output_type": "execute_result"
    }
   ],
   "source": [
    "column_name=index_rdd_1.first()\n",
    "column_name\n"
   ]
  },
  {
   "cell_type": "code",
   "execution_count": 15,
   "id": "2e136f2e-a067-4cd9-b7df-7f981688e7ab",
   "metadata": {},
   "outputs": [
    {
     "data": {
      "text/plain": [
       "[['1', '20', '2019-08-14'],\n",
       " ['2', '50', '2019-08-14'],\n",
       " ['1', '30', '2019-08-15'],\n",
       " ['1', '35', '2019-08-16'],\n",
       " ['2', '65', '2019-08-17'],\n",
       " ['3', '20', '2019-08-18']]"
      ]
     },
     "execution_count": 15,
     "metadata": {},
     "output_type": "execute_result"
    }
   ],
   "source": [
    "index_rdd_1.filter(lambda x:x!=column_name)\n",
    ".collect()"
   ]
  },
  {
   "cell_type": "code",
   "execution_count": 17,
   "id": "fa395a08-a55d-46ab-91b8-4ef055e9b251",
   "metadata": {},
   "outputs": [
    {
     "data": {
      "text/plain": [
       "[Row(product_id='1', new_price='20', change_date='2019-08-14'),\n",
       " Row(product_id='2', new_price='50', change_date='2019-08-14'),\n",
       " Row(product_id='1', new_price='30', change_date='2019-08-15'),\n",
       " Row(product_id='1', new_price='35', change_date='2019-08-16'),\n",
       " Row(product_id='2', new_price='65', change_date='2019-08-17'),\n",
       " Row(product_id='3', new_price='20', change_date='2019-08-18')]"
      ]
     },
     "execution_count": 17,
     "metadata": {},
     "output_type": "execute_result"
    }
   ],
   "source": [
    "#.zipWithIndex()\n",
    "index_rdd_2=index_rdd_1.filter(lambda x:x!=column_name).toDF(column_name)\n",
    "index_rdd_2.collect()"
   ]
  },
  {
   "cell_type": "code",
   "execution_count": 18,
   "id": "9106c8a6-5cc9-46d9-89b2-df3e9fd5a9c2",
   "metadata": {},
   "outputs": [
    {
     "name": "stdout",
     "output_type": "stream",
     "text": [
      "+----------+---------+-----------+\n",
      "|product_id|new_price|change_date|\n",
      "+----------+---------+-----------+\n",
      "|         1|       20| 2019-08-14|\n",
      "|         2|       50| 2019-08-14|\n",
      "|         1|       30| 2019-08-15|\n",
      "|         1|       35| 2019-08-16|\n",
      "|         2|       65| 2019-08-17|\n",
      "|         3|       20| 2019-08-18|\n",
      "+----------+---------+-----------+\n",
      "\n"
     ]
    }
   ],
   "source": [
    "index_rdd_2.show()"
   ]
  },
  {
   "cell_type": "code",
   "execution_count": null,
   "id": "cae2c2f3-ce23-4295-a8cc-09b211cfb78f",
   "metadata": {},
   "outputs": [],
   "source": []
  },
  {
   "cell_type": "code",
   "execution_count": null,
   "id": "0dd23061-8a90-4758-9abf-7f7016f5120d",
   "metadata": {},
   "outputs": [],
   "source": []
  }
 ],
 "metadata": {
  "kernelspec": {
   "display_name": "py311",
   "language": "python",
   "name": "py311"
  },
  "language_info": {
   "codemirror_mode": {
    "name": "ipython",
    "version": 3
   },
   "file_extension": ".py",
   "mimetype": "text/x-python",
   "name": "python",
   "nbconvert_exporter": "python",
   "pygments_lexer": "ipython3",
   "version": "3.11.10"
  }
 },
 "nbformat": 4,
 "nbformat_minor": 5
}
